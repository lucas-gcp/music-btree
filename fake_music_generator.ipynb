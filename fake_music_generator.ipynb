{
 "cells": [
  {
   "cell_type": "code",
   "execution_count": 1,
   "id": "7f0f9c5f",
   "metadata": {},
   "outputs": [
    {
     "name": "stdout",
     "output_type": "stream",
     "text": [
      "Note: you may need to restart the kernel to use updated packages.\n"
     ]
    },
    {
     "name": "stderr",
     "output_type": "stream",
     "text": [
      "ERROR: pip's dependency resolver does not currently take into account all the packages that are installed. This behaviour is the source of the following dependency conflicts.\n",
      "scipy 1.14.0 requires numpy<2.3,>=1.23.5, but you have numpy 2.3.2 which is incompatible.\n"
     ]
    }
   ],
   "source": [
    "%pip install -q --upgrade pip numpy"
   ]
  },
  {
   "cell_type": "code",
   "execution_count": null,
   "id": "61de30c3",
   "metadata": {},
   "outputs": [],
   "source": [
    "import numpy as np\n",
    "import os\n",
    "import subprocess\n",
    "import shutil\n",
    "\n",
    "with open('compositores.txt', encoding = \"utf8\") as f:\n",
    "    COMPOSITORES = [c[:-1] for c in f.readlines()]\n",
    "CATEGORIAS = [\"Piano Concerto\", \"Violin Sonata\", \"String Quartet\", \"Symphony\", \"Piano Sonata\", \"Prelude\"]\n",
    "\n",
    "NUM_RECORDINGS = [10, 100, 1000, 10000]\n",
    "NUM_COMPOSICOES = 500\n",
    "NUM_COMPOSICOES_POR_CATEGORIA = int(NUM_COMPOSICOES / (len(COMPOSITORES) * len(CATEGORIAS)) + 1)\n",
    "\n",
    "rng = np.random.default_rng(seed=42)\n",
    "n, p = 20, (5_000_000/1_200_000) / 20 # https://support.apple.com/en-vn/guide/apple-music-classical/dev02bc3b832/web\n",
    "\n",
    "recordings = 1\n",
    "for total in NUM_RECORDINGS:\n",
    "    print(total)\n",
    "    while recordings <= total:\n",
    "        k = rng.binomial(n, p)\n",
    "        os.mkdir(f\"fake-music/album{recordings}\")\n",
    "        with open(f\"fake-music/album{recordings}/album{recordings}.txt\", \"w\", encoding = \"utf8\") as f:\n",
    "            s = \"\"\n",
    "            for catalogo in rng.integers(low=1, high=NUM_COMPOSICOES_POR_CATEGORIA * len(CATEGORIAS), size=k, endpoint=True):\n",
    "                compositor = rng.choice(COMPOSITORES)\n",
    "                categoria = int(catalogo / (NUM_COMPOSICOES_POR_CATEGORIA + 1))\n",
    "                idx = (catalogo - 1) % (NUM_COMPOSICOES_POR_CATEGORIA) + 1\n",
    "\n",
    "                s += f\"{compositor},{CATEGORIAS[categoria]} No. {idx},{catalogo}\\n\"\n",
    "\n",
    "            f.write(s[:-1])\n",
    "            f.write(\"\\n\")\n",
    "\n",
    "        recordings += 1\n",
    "\n",
    "    subprocess.run([\"src/benchmark\", \"fake-music\"])\n",
    "    print(\"B Tree size: \", os.path.getsize('btree.db'))\n",
    "    print(\"B+ Tree size: \", os.path.getsize('index/'))\n",
    "    os.remove(\"btree.db\")\n",
    "    shutil.rmtree(\"B_benchmark_db\")\n",
    "    shutil.rmtree(\"BP_benchmark_db\")\n",
    "    shutil.rmtree(\"index\")\n"
   ]
  }
 ],
 "metadata": {
  "kernelspec": {
   "display_name": "Python 3",
   "language": "python",
   "name": "python3"
  },
  "language_info": {
   "codemirror_mode": {
    "name": "ipython",
    "version": 3
   },
   "file_extension": ".py",
   "mimetype": "text/x-python",
   "name": "python",
   "nbconvert_exporter": "python",
   "pygments_lexer": "ipython3",
   "version": "3.11.5"
  }
 },
 "nbformat": 4,
 "nbformat_minor": 5
}
